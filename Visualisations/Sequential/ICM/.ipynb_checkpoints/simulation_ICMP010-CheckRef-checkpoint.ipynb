{
 "cells": [
  {
   "cell_type": "code",
   "execution_count": null,
   "metadata": {
    "scrolled": false
   },
   "outputs": [],
   "source": [
    "import networkx as nx\n",
    "import ModelConfig as mc\n",
    "import IndependentCascadesModelP001 as icm\n",
    "# import IndependentCascadesModelP010 as icm\n",
    "# import WeightedCascadeModel as icm\n",
    "import operator\n",
    "import random \n",
    "import matplotlib.pyplot as plt\n",
    "import numpy as np\n",
    "import math"
   ]
  },
  {
   "cell_type": "code",
   "execution_count": null,
   "metadata": {},
   "outputs": [],
   "source": [
    "def GreedySelect(g, activated_nodes, model, config, greedy_i):\n",
    "    ''' \n",
    "    Select node with max average marginal gain\n",
    "    Variable 'mg' refers to 'marginal gain'\n",
    "    Number of iterations to find average marginal gain defaulted to 100\n",
    "    '''\n",
    "    mg_dict = {}\n",
    "    for candidate in g.nodes():\n",
    "        if candidate in activated_nodes:\n",
    "            continue\n",
    "        mg = 0\n",
    "        for i in range(greedy_i):\n",
    "            newly_activated_nodes = GreedySim(model, config, candidate)\n",
    "            mg += len(newly_activated_nodes)\n",
    "        avg_mg = mg/greedy_i\n",
    "        mg_dict[candidate] = avg_mg\n",
    "    influencer = max(mg_dict.items(), key=operator.itemgetter(1))[0]\n",
    "    print(f\"Selected Influencer: Node {influencer}\")\n",
    "    \n",
    "    return influencer\n",
    "\n",
    "def GreedySim(model, config, candidate):\n",
    "    config.add_model_initial_configuration(\"Infected\", [candidate])\n",
    "    model.set_initial_status(config)\n",
    "    active_set_size, newly_activated_nodes = model.iteration_bunch()\n",
    "    newly_activated_nodes.append(candidate)\n",
    "    model.mg_reset(newly_activated_nodes)\n",
    "    \n",
    "    return newly_activated_nodes"
   ]
  },
  {
   "cell_type": "code",
   "execution_count": null,
   "metadata": {},
   "outputs": [],
   "source": [
    "def InitModel(g):\n",
    "    model = icm.IndependentCascadesModel(g)\n",
    "    config = mc.Configuration()\n",
    "    return model, config\n",
    "\n",
    "def InfluenceSpread(model, config, influencer):\n",
    "    config.add_model_initial_configuration(\"Infected\", [influencer])\n",
    "    model.set_initial_status(config)\n",
    "    active_set_size, newly_activated_nodes = model.iteration_bunch()\n",
    "    return active_set_size, newly_activated_nodes\n",
    "\n",
    "def get_combination(g, target_set_size, greedy_i=100):\n",
    "    '''\n",
    "    Assuming continuous process (previously activated nodes cannot reattempt)\n",
    "    As compared to one-time influence spread, all influencer same start point\n",
    "    Default strategy set as greedy \n",
    "    '''\n",
    "    # prepare graph for respective strategies\n",
    "    g = remove_isolated_nodes(g)\n",
    "        \n",
    "    # initialize diffusion model\n",
    "    model, config = InitModel(g)\n",
    "    \n",
    "    all_activated_nodes = []\n",
    "    influencers = []\n",
    "    active_ss_list = []\n",
    "    for i in range(1, target_set_size+1):\n",
    "        print(f\"Selecting Influencer {i}\")\n",
    "        print(\"------------------------------------\")\n",
    "        \n",
    "        influencer = GreedySelect(g, all_activated_nodes, model, config, greedy_i)\n",
    "        influencers.append(influencer)\n",
    "\n",
    "        active_set_size, newly_activated_nodes = InfluenceSpread(model, config, influencer)\n",
    "        print(f\"Newly Activated Nodes: {newly_activated_nodes}\")\n",
    "        newly_activated_nodes.append(influencer)\n",
    "        all_activated_nodes.extend(newly_activated_nodes)\n",
    "        print(f\"All Activated Nodes: {all_activated_nodes}\")\n",
    "        print(f\"Active Set Size: {active_set_size}\")\n",
    "        \n",
    "        active_set_size, all_activated_nodes = model.random_deactivation(all_activated_nodes)\n",
    "        print(f\"Final Activated Nodes: {all_activated_nodes}\")\n",
    "        print(f\"Final Active Set Size: {active_set_size}\")\n",
    "        print(\"\")\n",
    "\n",
    "        model.is_reset()\n",
    "        active_ss_list.append(active_set_size)\n",
    "\n",
    "    return influencers, active_ss_list[-1]"
   ]
  },
  {
   "cell_type": "code",
   "execution_count": null,
   "metadata": {},
   "outputs": [],
   "source": [
    "def remove_isolated_nodes(g):\n",
    "    isolated_nodes = []\n",
    "    for pair in g.degree:\n",
    "        node = pair[0]\n",
    "        degree = pair[1]\n",
    "        if degree == 0:\n",
    "            isolated_nodes.append(node)\n",
    "\n",
    "    for node in isolated_nodes:\n",
    "        g.remove_node(node)\n",
    "        \n",
    "    return g"
   ]
  },
  {
   "cell_type": "code",
   "execution_count": null,
   "metadata": {},
   "outputs": [],
   "source": [
    "# Simulation: Build Long Term Reward Reference"
   ]
  },
  {
   "cell_type": "code",
   "execution_count": null,
   "metadata": {
    "scrolled": true
   },
   "outputs": [],
   "source": [
    "g = nx.erdos_renyi_graph(150, 0.1) #number of nodes, probability to form edges\n",
    "g = remove_isolated_nodes(g)\n",
    "target_set_size = 5\n",
    "greedy_i = 10\n",
    "LT_ref = []\n",
    "num_i = 100\n",
    "for i in range(1, num_i+1):\n",
    "    print(f\"Iteration {i}\")\n",
    "    print(\"------------------------------------\")\n",
    "        \n",
    "    combination = get_combination(g, target_set_size, greedy_i)\n",
    "    LT_ref.append(combination)\n",
    "\n",
    "LT_ref.sort(key=lambda x:x[1], reverse=True)\n",
    "sorted_influencers = []\n",
    "for influencers, LT_reward in LT_ref:\n",
    "    if influencers in sorted_influencers:\n",
    "        continue  \n",
    "    sorted_influencers.append(influencers)"
   ]
  },
  {
   "cell_type": "code",
   "execution_count": null,
   "metadata": {},
   "outputs": [],
   "source": [
    "print(LT_ref)\n",
    "print(\"\")\n",
    "print(sorted_influencers)"
   ]
  },
  {
   "cell_type": "code",
   "execution_count": null,
   "metadata": {},
   "outputs": [],
   "source": [
    "# Actual Influence Spread"
   ]
  },
  {
   "cell_type": "code",
   "execution_count": null,
   "metadata": {},
   "outputs": [],
   "source": [
    "influencer = sorted_influencers[0][0]\n",
    "\n",
    "def actual_is(g, target_set_size, greedy_i=100):\n",
    "    '''\n",
    "    Assuming continuous process (previously activated nodes cannot reattempt)\n",
    "    As compared to one-time influence spread, all influencer same start point\n",
    "    Default strategy set as greedy \n",
    "    '''\n",
    "    # prepare graph for respective strategies\n",
    "    g = remove_isolated_nodes(g)\n",
    "        \n",
    "    # initialize diffusion model\n",
    "    model, config = InitModel(g)\n",
    "    \n",
    "    all_activated_nodes = []\n",
    "    influencers = []\n",
    "    active_ss_list = []\n",
    "    influencer = sorted_influencers[0][0]\n",
    "    \n",
    "    for i in range(1, target_set_size+1):\n",
    "        print(f\"Selecting Influencer {i}\")\n",
    "        print(\"------------------------------------\")\n",
    "        \n",
    "        #reference\n",
    "        if i > 1:\n",
    "            influencer_index = i-1\n",
    "            if sorted_influencers[0][influencer_index] not in all_activated nodes:\n",
    "                influencer = sorted_influencers[0][influencer_index]\n",
    "            elif sorted_influencers[1][influencer_index] in activated nodes:\n",
    "            if sorted_influencers[2][influencer_index] in activated nodes:\n",
    "                # what if another combination?\n",
    "                # then marginal gain\n",
    "        for influencers in sorted_influencers:\n",
    "            if influencers[influencer_index]\n",
    "            \n",
    "        influencers.append(influencer)\n",
    "\n",
    "        active_set_size, newly_activated_nodes = InfluenceSpread(model, config, influencer)\n",
    "        print(f\"Newly Activated Nodes: {newly_activated_nodes}\")\n",
    "        newly_activated_nodes.append(influencer)\n",
    "        all_activated_nodes.extend(newly_activated_nodes)\n",
    "        print(f\"All Activated Nodes: {all_activated_nodes}\")\n",
    "        print(f\"Active Set Size: {active_set_size}\")\n",
    "        \n",
    "        active_set_size, all_activated_nodes = model.random_deactivation(all_activated_nodes)\n",
    "        print(f\"Final Activated Nodes: {all_activated_nodes}\")\n",
    "        print(f\"Final Active Set Size: {active_set_size}\")\n",
    "        print(\"\")\n",
    "\n",
    "        model.is_reset()\n",
    "        active_ss_list.append(active_set_size)\n",
    "\n",
    "    return influencers, active_ss_list[-1]"
   ]
  },
  {
   "cell_type": "code",
   "execution_count": 21,
   "metadata": {},
   "outputs": [],
   "source": [
    "sorted_influencers = [[38, 78, 124, 77, 94], [38, 78, 124, 77, 80], [86, 104, 84, 6, 73], [69, 20, 79, 134, 55], [123, 54, 55, 84, 52], [127, 84, 44, 111, 41], [24, 29, 86, 33, 111], [22, 96, 103, 91, 67], [3, 83, 127, 41, 78], [99, 97, 26, 22, 116], [13, 17, 55, 24, 57], [121, 26, 133, 66, 33], [101, 116, 138, 70, 118], [77, 75, 11, 88, 107], [111, 96, 109, 39, 100], [95, 144, 58, 77, 137], [148, 12, 100, 56, 138], [77, 30, 112, 26, 90], [135, 20, 77, 27, 94], [33, 9, 73, 102, 30], [99, 73, 120, 49, 113], [99, 133, 71, 58, 77], [92, 96, 144, 53, 77], [19, 26, 105, 24, 41], [69, 100, 66, 59, 48], [84, 15, 29, 134, 17], [59, 67, 110, 8, 17], [105, 17, 92, 103, 100], [87, 8, 14, 57, 78], [29, 108, 146, 55, 109], [111, 39, 102, 100, 34], [23, 71, 81, 13, 29], [89, 94, 32, 96, 146], [49, 111, 139, 8, 26], [105, 100, 131, 51, 29], [133, 48, 58, 8, 21], [96, 48, 146, 27, 25], [92, 144, 50, 100, 76], [119, 63, 111, 21, 133], [84, 18, 80, 6, 3], [58, 89, 114, 60, 27], [103, 86, 35, 105, 114], [26, 101, 82, 98, 125], [89, 55, 77, 94, 52], [97, 102, 128, 54, 77], [129, 8, 10, 36, 67], [10, 118, 108, 33, 35], [30, 21, 39, 41, 1], [62, 71, 46, 109, 144], [34, 100, 19, 61, 62], [146, 3, 92, 8, 121], [56, 86, 133, 2, 60], [2, 141, 10, 114, 6], [26, 69, 98, 61, 120], [22, 27, 100, 105, 23], [100, 85, 19, 100, 4], [120, 96, 144, 88, 137], [12, 59, 88, 99, 120], [45, 100, 39, 24, 10], [89, 92, 102, 60, 111], [107, 62, 90, 58, 144], [126, 137, 84, 120, 77], [84, 107, 24, 135, 100], [117, 96, 0, 1, 38], [75, 115, 148, 27, 60], [125, 100, 37, 107, 101], [22, 111, 26, 8, 67], [11, 113, 69, 99, 102], [100, 10, 99, 135, 74], [100, 11, 9, 102, 21], [50, 100, 63, 97, 67], [12, 88, 6, 125, 118], [15, 8, 139, 82, 1], [95, 69, 44, 100, 67], [6, 121, 67, 113, 32], [111, 110, 100, 117, 86], [11, 133, 96, 59, 56], [56, 96, 17, 91, 102], [106, 105, 123, 17, 58], [22, 87, 100, 38, 20], [3, 87, 120, 57, 21], [120, 123, 91, 111, 73], [77, 94, 6, 116, 148], [82, 73, 148, 38, 29], [101, 58, 34, 118, 98], [105, 12, 120, 104, 74], [82, 86, 1, 69, 118], [19, 3, 1, 117, 129], [12, 55, 123, 112, 30], [37, 25, 87, 88, 33], [26, 22, 77, 41, 74], [10, 10, 62, 55, 73], [92, 18, 69, 50, 78], [125, 133, 73, 40, 62], [78, 77, 44, 26, 18], [26, 124, 30, 73, 85], [107, 105, 135, 67, 86], [131, 119, 34, 37, 99], [120, 113, 17, 34, 107], [102, 77, 58, 69, 116], [92, 30, 118, 89, 88]]"
   ]
  },
  {
   "cell_type": "code",
   "execution_count": 15,
   "metadata": {},
   "outputs": [
    {
     "name": "stdout",
     "output_type": "stream",
     "text": [
      "38\n"
     ]
    }
   ],
   "source": [
    "influencer = sorted_influencers[0][0]\n",
    "print(influencer)"
   ]
  },
  {
   "cell_type": "code",
   "execution_count": 16,
   "metadata": {},
   "outputs": [
    {
     "name": "stdout",
     "output_type": "stream",
     "text": [
      "[[38, 78, 124, 77, 94]]\n"
     ]
    }
   ],
   "source": [
    "n = []\n",
    "for influencers in sorted_influencers:\n",
    "    if influencers[0] == influencer:\n",
    "        n.append(influencers)\n",
    "print(n)\n",
    "sorted_influencers = n"
   ]
  },
  {
   "cell_type": "code",
   "execution_count": 17,
   "metadata": {},
   "outputs": [
    {
     "name": "stdout",
     "output_type": "stream",
     "text": [
      "78\n"
     ]
    }
   ],
   "source": [
    "influencer = sorted_influencers[0][1]\n",
    "print(influencer)"
   ]
  },
  {
   "cell_type": "code",
   "execution_count": 18,
   "metadata": {},
   "outputs": [
    {
     "name": "stdout",
     "output_type": "stream",
     "text": [
      "[[38, 78, 124, 77, 94]]\n",
      "78\n",
      "[[38, 78, 124, 77, 94]]\n"
     ]
    }
   ],
   "source": [
    "print(n)\n",
    "new = []\n",
    "for influencers in sorted_influencers:\n",
    "    print(influencers[1])\n",
    "    if influencers[1] == influencer:\n",
    "        new.append(influencers)\n",
    "print(new)"
   ]
  },
  {
   "cell_type": "code",
   "execution_count": null,
   "metadata": {},
   "outputs": [],
   "source": [
    "print(n)"
   ]
  },
  {
   "cell_type": "code",
   "execution_count": 22,
   "metadata": {},
   "outputs": [
    {
     "name": "stdout",
     "output_type": "stream",
     "text": [
      "Influencer: Node 38\n",
      "New Sorted Influencers: [[38, 78, 124, 77, 94], [38, 78, 124, 77, 80]]\n",
      "Influencer: Node 78\n",
      "New Sorted Influencers: [[38, 78, 124, 77, 94], [38, 78, 124, 77, 80]]\n",
      "Influencer: Node 124\n",
      "New Sorted Influencers: [[38, 78, 124, 77, 94], [38, 78, 124, 77, 80]]\n",
      "Influencer: Node 77\n",
      "New Sorted Influencers: [[38, 78, 124, 77, 94], [38, 78, 124, 77, 80]]\n",
      "Influencer: Node 94\n",
      "New Sorted Influencers: [[38, 78, 124, 77, 94]]\n"
     ]
    }
   ],
   "source": [
    "# Removing unmatching combinations\n",
    "target_set_size = 5\n",
    "for i in range(target_set_size):\n",
    "    influencer = sorted_influencers[0][i]\n",
    "    print(f\"Influencer: Node {influencer}\")\n",
    "    n = []\n",
    "    for influencers in sorted_influencers:\n",
    "        if influencers[i] == influencer:\n",
    "            n.append(influencers)\n",
    "    print(f\"New Sorted Influencers: {n}\")\n",
    "    sorted_influencers = n"
   ]
  },
  {
   "cell_type": "code",
   "execution_count": 26,
   "metadata": {},
   "outputs": [
    {
     "name": "stdout",
     "output_type": "stream",
     "text": [
      "Influencer: Node 38\n",
      "New Sorted Influencers: [[38, 78, 124, 77, 94]]\n",
      "Influencer: Node 78\n",
      "New Sorted Influencers: [[38, 78, 124, 77, 94]]\n",
      "ValueError\n",
      "Influencer: Node 124\n",
      "New Sorted Influencers: [[38, 78, 124, 77, 94]]\n",
      "Influencer: Node 77\n",
      "New Sorted Influencers: [[38, 78, 124, 77, 94]]\n",
      "Influencer: Node 94\n",
      "New Sorted Influencers: [[38, 78, 124, 77, 94]]\n"
     ]
    }
   ],
   "source": [
    "#check if influencer in currently activated nodes\n",
    "# Removing unmatching combinations\n",
    "target_set_size = 5\n",
    "all_activated_nodes = [0, 2, 3, 4, 124]\n",
    "for i in range(target_set_size):\n",
    "    influencer = sorted_influencers[0][i]\n",
    "    j = 1\n",
    "    while influencer in all_activated_nodes:\n",
    "        try:   \n",
    "            influencer = sorted_influencers[j][i]\n",
    "            j += 1\n",
    "        except IndexError:\n",
    "            print(\"ValueError\")\n",
    "            break\n",
    "            #             influencer = GreedySelect(g, all_activated_nodes, model, config, greedy_i)\n",
    "        \n",
    "    print(f\"Influencer: Node {influencer}\")\n",
    "    n = []\n",
    "    for influencers in sorted_influencers:\n",
    "        if influencers[i] == influencer:\n",
    "            n.append(influencers)\n",
    "    print(f\"New Sorted Influencers: {n}\")\n",
    "    sorted_influencers = n"
   ]
  },
  {
   "cell_type": "code",
   "execution_count": null,
   "metadata": {},
   "outputs": [],
   "source": []
  }
 ],
 "metadata": {
  "kernelspec": {
   "display_name": "Python 3",
   "language": "python",
   "name": "python3"
  },
  "language_info": {
   "codemirror_mode": {
    "name": "ipython",
    "version": 3
   },
   "file_extension": ".py",
   "mimetype": "text/x-python",
   "name": "python",
   "nbconvert_exporter": "python",
   "pygments_lexer": "ipython3",
   "version": "3.8.3"
  }
 },
 "nbformat": 4,
 "nbformat_minor": 4
}
