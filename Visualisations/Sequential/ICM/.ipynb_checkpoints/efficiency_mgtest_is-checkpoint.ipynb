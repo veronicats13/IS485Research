{
 "cells": [
  {
   "cell_type": "code",
   "execution_count": 1,
   "metadata": {},
   "outputs": [
    {
     "ename": "NameError",
     "evalue": "name 'activated_nodes' is not defined",
     "output_type": "error",
     "traceback": [
      "\u001b[1;31m---------------------------------------------------------------------------\u001b[0m",
      "\u001b[1;31mNameError\u001b[0m                                 Traceback (most recent call last)",
      "\u001b[1;32m<ipython-input-1-2a69d8c75e67>\u001b[0m in \u001b[0;36m<module>\u001b[1;34m\u001b[0m\n\u001b[0;32m     12\u001b[0m \u001b[0mconfig\u001b[0m \u001b[1;33m=\u001b[0m \u001b[0mmc\u001b[0m\u001b[1;33m.\u001b[0m\u001b[0mConfiguration\u001b[0m\u001b[1;33m(\u001b[0m\u001b[1;33m)\u001b[0m\u001b[1;33m\u001b[0m\u001b[1;33m\u001b[0m\u001b[0m\n\u001b[0;32m     13\u001b[0m \u001b[1;32mfor\u001b[0m \u001b[0mn\u001b[0m \u001b[1;32min\u001b[0m \u001b[0mg\u001b[0m\u001b[1;33m.\u001b[0m\u001b[0mnodes\u001b[0m\u001b[1;33m(\u001b[0m\u001b[1;33m)\u001b[0m\u001b[1;33m:\u001b[0m\u001b[1;33m\u001b[0m\u001b[1;33m\u001b[0m\u001b[0m\n\u001b[1;32m---> 14\u001b[1;33m     \u001b[1;32mif\u001b[0m \u001b[0mn\u001b[0m \u001b[1;32min\u001b[0m \u001b[0mactivated_nodes\u001b[0m\u001b[1;33m:\u001b[0m\u001b[1;33m\u001b[0m\u001b[1;33m\u001b[0m\u001b[0m\n\u001b[0m\u001b[0;32m     15\u001b[0m         \u001b[0mconfig\u001b[0m\u001b[1;33m.\u001b[0m\u001b[0madd_node_configuration\u001b[0m\u001b[1;33m(\u001b[0m\u001b[1;34m\"attempt\"\u001b[0m\u001b[1;33m,\u001b[0m \u001b[0mn\u001b[0m\u001b[1;33m,\u001b[0m \u001b[1;36m1\u001b[0m\u001b[1;33m)\u001b[0m\u001b[1;33m\u001b[0m\u001b[1;33m\u001b[0m\u001b[0m\n\u001b[0;32m     16\u001b[0m     \u001b[1;32melse\u001b[0m\u001b[1;33m:\u001b[0m\u001b[1;33m\u001b[0m\u001b[1;33m\u001b[0m\u001b[0m\n",
      "\u001b[1;31mNameError\u001b[0m: name 'activated_nodes' is not defined"
     ]
    }
   ],
   "source": [
    "import networkx as nx\n",
    "import ModelConfig as mc\n",
    "import IndependentCascadesModelP010 as icm\n",
    "import operator\n",
    "import random \n",
    "import matplotlib.pyplot as plt\n",
    "import numpy as np\n",
    "import math\n",
    "\n",
    "g = nx.erdos_renyi_graph(150, 0.1) #number of nodes, probability to form edges\n",
    "model = icm.IndependentCascadesModel(g)\n",
    "config = mc.Configuration()\n",
    "\n",
    "i1 = 1 #selected node 1 as influencer \n",
    "config.add_model_initial_configuration(\"Infected\", [i1]) #change \"infected to activated\"\n",
    "# remove all print outputs\n",
    "model.set_initial_status(config)\n",
    "iterations = model.iteration_bunch() #actual influence spread of node 1\n",
    "active_set_size, activated_nodes = iterations\n",
    "activated_nodes.append(i1)\n",
    "print(f\"Active Set Size: {active_set_size}\")\n",
    "print(f\"Activated Nodes: {activated_nodes}\")\n",
    "print(\"\")\n",
    "\n",
    "model.is_reset()\n",
    "\n",
    "i2 = random.randint(0, 149) #test marginal gain of node 3\n",
    "while i2 in activated_nodes:\n",
    "    i2 = random.randint(0, 149)\n",
    "config.add_model_initial_configuration(\"Infected\", [i2])\n",
    "model.set_initial_status(config)\n",
    "iterations = model.iteration_bunch()\n",
    "active_set_size, newly_activated_nodes = iterations\n",
    "newly_activated_nodes.append(i2)\n",
    "print(f\"Active Set Size: {active_set_size}\")\n",
    "print(f\"Newly Activated Nodes: {newly_activated_nodes}\")\n",
    "mg = len(newly_activated_nodes)\n",
    "print(f\"Marginal Gain: {mg}\")\n",
    "print(\"\")\n",
    "\n",
    "model.mg_reset(newly_activated_nodes)\n",
    "\n",
    "i3 = random.randint(0, 149) #test marginal gain of node 3\n",
    "while i3 in activated_nodes:\n",
    "    i3 = random.randint(0, 149)\n",
    "config.add_model_initial_configuration(\"Infected\", [i3])\n",
    "model.set_initial_status(config)\n",
    "iterations = model.iteration_bunch()\n",
    "active_set_size, newly_activated_nodes = iterations\n",
    "newly_activated_nodes.append(i3)\n",
    "print(f\"Active Set Size: {active_set_size}\")\n",
    "print(f\"Newly Activated Nodes: {newly_activated_nodes}\")\n",
    "mg = len(newly_activated_nodes)\n",
    "print(f\"Marginal Gain: {mg}\")\n",
    "print(\"\")\n",
    "\n",
    "model.mg_reset(newly_activated_nodes)\n",
    "\n",
    "i4 = random.randint(0, 149) #test marginal gain of node 3\n",
    "while i4 in activated_nodes:\n",
    "    i4 = random.randint(0, 149)\n",
    "config.add_model_initial_configuration(\"Infected\", [i4])\n",
    "model.set_initial_status(config)\n",
    "iterations = model.iteration_bunch()\n",
    "active_set_size, newly_activated_nodes = iterations\n",
    "newly_activated_nodes.append(i4)\n",
    "print(f\"Active Set Size: {active_set_size}\")\n",
    "print(f\"Newly Activated Nodes: {newly_activated_nodes}\")\n",
    "mg = len(newly_activated_nodes)\n",
    "print(f\"Marginal Gain: {mg}\")\n",
    "print(\"\")"
   ]
  },
  {
   "cell_type": "code",
   "execution_count": null,
   "metadata": {},
   "outputs": [],
   "source": []
  }
 ],
 "metadata": {
  "kernelspec": {
   "display_name": "Python 3",
   "language": "python",
   "name": "python3"
  },
  "language_info": {
   "codemirror_mode": {
    "name": "ipython",
    "version": 3
   },
   "file_extension": ".py",
   "mimetype": "text/x-python",
   "name": "python",
   "nbconvert_exporter": "python",
   "pygments_lexer": "ipython3",
   "version": "3.8.3"
  }
 },
 "nbformat": 4,
 "nbformat_minor": 4
}
