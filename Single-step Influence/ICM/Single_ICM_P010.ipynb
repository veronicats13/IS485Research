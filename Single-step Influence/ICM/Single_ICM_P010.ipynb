{
 "cells": [
  {
   "cell_type": "markdown",
   "metadata": {},
   "source": [
    "# Single-Step Influence Spread"
   ]
  },
  {
   "cell_type": "markdown",
   "metadata": {},
   "source": [
    "Influence Spread Using Independent Cascade Model (Probability 0.1)\n",
    "- Sort nodes and select influencers according to respective selection strategies\n",
    "- Run Influence Spread\n",
    "- Retrieve Active Set Size"
   ]
  },
  {
   "cell_type": "markdown",
   "metadata": {},
   "source": [
    "## Import Relevant Libraries"
   ]
  },
  {
   "cell_type": "code",
   "execution_count": null,
   "metadata": {
    "scrolled": false
   },
   "outputs": [],
   "source": [
    "import networkx as nx\n",
    "import ModelConfig as mc\n",
    "# import IndependentCascadesModelP001 as icm\n",
    "import IndependentCascadesModelP010 as icm\n",
    "# import WeightedCascadeModel as icm\n",
    "import operator\n",
    "import random \n",
    "import matplotlib.pyplot as plt\n",
    "import numpy as np\n",
    "import math\n",
    "from concurrent.futures import ThreadPoolExecutor\n",
    "import time"
   ]
  },
  {
   "cell_type": "code",
   "execution_count": null,
   "metadata": {},
   "outputs": [],
   "source": [
    "start = time.perf_counter()"
   ]
  },
  {
   "cell_type": "markdown",
   "metadata": {},
   "source": [
    "## Main Process"
   ]
  },
  {
   "cell_type": "code",
   "execution_count": null,
   "metadata": {},
   "outputs": [],
   "source": [
    "def InitModel(g):\n",
    "    '''\n",
    "    Initializes Diffusion Model (Independent Cascade Model)\n",
    "    Instantiates its configuration\n",
    "    '''\n",
    "    model = icm.IndependentCascadesModel(g)\n",
    "    config = mc.Configuration()\n",
    "    \n",
    "    return model, config\n",
    "\n",
    "def InfluenceSpread(model, config, target_set):\n",
    "    '''\n",
    "    Runs influence spread for the given target set\n",
    "    Returns its active set size\n",
    "    '''\n",
    "    config.add_model_initial_configuration(\"Infected\", target_set)\n",
    "    model.set_initial_status(config)\n",
    "    active_set_size, newly_activated_nodes = model.iteration_bunch()\n",
    "    \n",
    "    return active_set_size\n",
    "\n",
    "def Get_ActiveSetSize(g, target_set_size, strategy, sorted_graph):   \n",
    "    '''\n",
    "    Selects Influencers (target_set)\n",
    "    Obtains Active Set Size of a Target Set through Influence Spread\n",
    "    '''\n",
    "    model, config = InitModel(g)\n",
    "    target_set = sorted_graph[0:target_set_size]\n",
    "    active_set_size = InfluenceSpread(model, config, target_set)\n",
    "    \n",
    "    return active_set_size"
   ]
  },
  {
   "cell_type": "markdown",
   "metadata": {},
   "source": [
    "## Influencer Selection Strategies"
   ]
  },
  {
   "cell_type": "code",
   "execution_count": null,
   "metadata": {},
   "outputs": [],
   "source": [
    "def HighDegreeSort(g):\n",
    "    '''\n",
    "    Sorts graph by node degree in descending order\n",
    "    Returns sorted list without nodes' corresponding degree\n",
    "    '''\n",
    "    sorted_hd = []\n",
    "    for tup in sorted(g.degree, key=lambda x: x[1], reverse=True):\n",
    "        sorted_hd.append(tup[0])\n",
    "        \n",
    "    return sorted_hd"
   ]
  },
  {
   "cell_type": "code",
   "execution_count": null,
   "metadata": {},
   "outputs": [],
   "source": [
    "def CentralitySort(g):\n",
    "    '''\n",
    "    Sorts graph by average shortest distance (asd) in descending order\n",
    "    Returns sorted list without nodes' corresponding asd\n",
    "    '''\n",
    "    print(\"CentralitySort: Running...\")\n",
    "    asd_dict = {} \n",
    "    for node in g.nodes():\n",
    "        count_dist = 0\n",
    "        node_paths = nx.shortest_path(g)[node]\n",
    "        \n",
    "        for value in node_paths.values():\n",
    "            count_dist += len(value) - 1 # excluding start node\n",
    "        asd_dict[node] = count_dist/len(g)\n",
    "        print(f\"{node}/{len(g)-1}\")\n",
    "    \n",
    "    sorted_c = dict(sorted(asd_dict.items(), key=lambda item: item[1]))\n",
    "    print(\"CentralitySort: Completed\")\n",
    "    print(list(sorted_c))\n",
    "    \n",
    "    return list(sorted_c)\n",
    "\n",
    "def remove_isolated_nodes(g):\n",
    "    '''\n",
    "    Returns given graph with no isolated node\n",
    "    '''\n",
    "    isolated_nodes = []\n",
    "    for pair in g.degree:\n",
    "        node = pair[0]\n",
    "        degree = pair[1]\n",
    "        if degree == 0:\n",
    "            isolated_nodes.append(node)\n",
    "\n",
    "    for node in isolated_nodes:\n",
    "        g.remove_node(node)\n",
    "        \n",
    "    return g"
   ]
  },
  {
   "cell_type": "code",
   "execution_count": null,
   "metadata": {},
   "outputs": [],
   "source": [
    "def GreedySort(g, tss_range, num_iterations=100):\n",
    "    ''' \n",
    "    Covers Greedy (g), Random Greedy (rg) and Random (r) strategies\n",
    "    Finds average marginal gain and maximum influence of all nodes in the graph\n",
    "    Returns sorted list without nodes' corresponding marginal gain\n",
    "    '''\n",
    "    model, config = InitModel(g)\n",
    "    print(\"GreedySort: Running...\")\n",
    "    mg_dict = {}\n",
    "    influence_dict = {}\n",
    "    for candidate in g.nodes():\n",
    "        mg = 0\n",
    "        influence_list = []\n",
    "        for i in range(num_iterations):\n",
    "            newly_activated_nodes = GreedySim(model, config, candidate)\n",
    "            mg += len(newly_activated_nodes)\n",
    "            influence_list.append(len(newly_activated_nodes))\n",
    "        avg_mg = mg/num_iterations\n",
    "        mg_dict[candidate] = avg_mg\n",
    "        influence_dict[candidate] = max(influence_list)\n",
    "        print(f\"{candidate}/{len(g)-1}\")\n",
    "        \n",
    "    print(\"GreedySort: Completed\")\n",
    "    mg_list = list(sorted(mg_dict.items(), key=lambda item: item[1], reverse=True))\n",
    "    influence_list = list(sorted(mg_dict.items(), key=lambda item: item[1], reverse=True))\n",
    "    rg_list = sorted(random.choices(mg_list, k=tss_range), key=lambda item: item[1], reverse=True)\n",
    "    r_list = sorted(random.choices(influence_list, k=tss_range), key=lambda item: item[1], reverse=True)\n",
    "\n",
    "    sorted_g = []\n",
    "    sorted_rg = []\n",
    "    sorted_r = []\n",
    "    for tup in mg_list:\n",
    "        sorted_g.append(tup[0])\n",
    "    for tup in rg_list:\n",
    "        sorted_rg.append(tup[0])\n",
    "    for tup in r_list:\n",
    "        sorted_r.append(tup[0])\n",
    "\n",
    "    return sorted_g, sorted_rg, sorted_r\n",
    "\n",
    "def GreedySim(model, config, candidate):\n",
    "    ''' \n",
    "    Greedy Simulation to test the influence spread of a given node candidate\n",
    "    Returns a list of nodes that were activated by the candidate\n",
    "    '''\n",
    "    config.add_model_initial_configuration(\"Infected\", [candidate])\n",
    "    model.set_initial_status(config)\n",
    "    active_set_size, newly_activated_nodes = model.iteration_bunch()\n",
    "    newly_activated_nodes.append(candidate)\n",
    "    model.mg_reset(newly_activated_nodes)\n",
    "    \n",
    "    return newly_activated_nodes"
   ]
  },
  {
   "cell_type": "markdown",
   "metadata": {},
   "source": [
    "## Experiment"
   ]
  },
  {
   "cell_type": "code",
   "execution_count": null,
   "metadata": {},
   "outputs": [],
   "source": [
    "# Prepare graph\n",
    "''' \n",
    "nx.gnm_random_graph(number of nodes, number of edges)\n",
    "'''\n",
    "g = nx.gnm_random_graph(1075, 5300) # number of nodes, number of edges\n",
    "g = remove_isolated_nodes(g)\n",
    "\n",
    "# Experiment parameters\n",
    "''' \n",
    "Target Set Size Range (tss_range) determines the maximum number of influencers to be chosen\n",
    "Number of Iterations (num_i) refers to the number of times the experiment is repeated\n",
    "'''\n",
    "tss_range = 30 \n",
    "num_i = 1000"
   ]
  },
  {
   "cell_type": "code",
   "execution_count": null,
   "metadata": {
    "scrolled": true
   },
   "outputs": [],
   "source": [
    "def run_g_rg_r():\n",
    "    ''' \n",
    "    Runs experiment for Greedy, Random Greedy, and Random\n",
    "    Greedy iterations (greedy_i) refers to the number of times greedy simulation is conducted\n",
    "    Performs sorting before selecting target set and retrieving its active set size\n",
    "    Returns a list of averaged active set size for each target set size ranging from 0 to tss_range\n",
    "    '''\n",
    "    #Greedy\n",
    "    greedy_i = 1000\n",
    "    sorted_g, sorted_rg, sorted_r = GreedySort(g, tss_range, greedy_i)\n",
    "\n",
    "    g_active_ss_list = []\n",
    "    for i in range(tss_range):\n",
    "        g_active_ss_list.append(0)\n",
    "\n",
    "    for a in range(num_i):\n",
    "        for i in range(tss_range):\n",
    "            target_set_size = i\n",
    "            strategy = 'greedy'\n",
    "            active_set_size = Get_ActiveSetSize(g, target_set_size, strategy, sorted_g)\n",
    "            g_active_ss_list[i] += active_set_size\n",
    "        print(f\"{a}/{num_i-1}\")\n",
    "\n",
    "    for i in range(tss_range):\n",
    "        g_active_ss_list[i] /= num_i\n",
    "        \n",
    "    #Random Greedy\n",
    "    rg_active_ss_list = []\n",
    "    for i in range(tss_range):\n",
    "        rg_active_ss_list.append(0)\n",
    "\n",
    "    for a in range(num_i):\n",
    "        for i in range(tss_range):\n",
    "            target_set_size = i\n",
    "            strategy = 'randomgreedy'\n",
    "            active_set_size = Get_ActiveSetSize(g, target_set_size, strategy, sorted_rg)\n",
    "            rg_active_ss_list[i] += active_set_size\n",
    "        print(f\"{a}/{num_i-1}\")\n",
    "\n",
    "    for i in range(tss_range):\n",
    "        rg_active_ss_list[i] /= num_i\n",
    "        \n",
    "    #Random\n",
    "    r_active_ss_list = []\n",
    "    for i in range(tss_range):\n",
    "        r_active_ss_list.append(0)\n",
    "\n",
    "    for a in range(num_i):\n",
    "        for i in range(tss_range):\n",
    "            target_set_size = i\n",
    "            strategy = 'random'\n",
    "            active_set_size = Get_ActiveSetSize(g, target_set_size, strategy, sorted_r)\n",
    "            r_active_ss_list[i] += active_set_size\n",
    "        print(f\"{a}/{num_i-1}\")\n",
    "\n",
    "    for i in range(tss_range):\n",
    "        r_active_ss_list[i] /= num_i\n",
    "        \n",
    "    return g_active_ss_list, rg_active_ss_list, r_active_ss_list"
   ]
  },
  {
   "cell_type": "code",
   "execution_count": null,
   "metadata": {
    "scrolled": true
   },
   "outputs": [],
   "source": [
    "def run_hd():\n",
    "    ''' \n",
    "    Runs experiment for High Degree\n",
    "    Performs sorting before selecting target set and retrieving its active set size\n",
    "    Returns a list of averaged active set size for each target set size ranging from 0 to tss_range\n",
    "    '''\n",
    "    print(\"High Degree\")\n",
    "    sorted_hd = HighDegreeSort(g)\n",
    "\n",
    "    hd_active_ss_list = []\n",
    "    for i in range(tss_range):\n",
    "        hd_active_ss_list.append(0)\n",
    "\n",
    "    for a in range(num_i):\n",
    "        for i in range(tss_range):\n",
    "            target_set_size = i\n",
    "            strategy = 'highdegree'\n",
    "            active_set_size = Get_ActiveSetSize(g, target_set_size, strategy, sorted_hd)\n",
    "            hd_active_ss_list[i] += active_set_size\n",
    "        print(f\"{a}/{num_i-1}\")\n",
    "\n",
    "    for i in range(tss_range):\n",
    "        hd_active_ss_list[i] /= num_i\n",
    "    \n",
    "    return hd_active_ss_list"
   ]
  },
  {
   "cell_type": "code",
   "execution_count": null,
   "metadata": {
    "scrolled": true
   },
   "outputs": [],
   "source": [
    "def run_c():\n",
    "    ''' \n",
    "    Runs experiment for Centrality\n",
    "    Performs sorting before selecting target set and retrieving its active set size\n",
    "    Returns a list of averaged active set size for each target set size ranging from 0 to tss_range\n",
    "    '''\n",
    "    sorted_c = CentralitySort(g)\n",
    "\n",
    "    c_active_ss_list = []\n",
    "    for i in range(tss_range):\n",
    "        c_active_ss_list.append(0)\n",
    "\n",
    "    for a in range(num_i):\n",
    "        for i in range(tss_range):\n",
    "            target_set_size = i\n",
    "            strategy = 'centrality'\n",
    "            active_set_size = Get_ActiveSetSize(g, target_set_size, strategy, sorted_c)\n",
    "            c_active_ss_list[i] += active_set_size\n",
    "        print(f\"{a}/{num_i-1}\")\n",
    "\n",
    "    for i in range(tss_range):\n",
    "        c_active_ss_list[i] /= num_i\n",
    "    \n",
    "    return c_active_ss_list"
   ]
  },
  {
   "cell_type": "code",
   "execution_count": null,
   "metadata": {
    "scrolled": true
   },
   "outputs": [],
   "source": [
    "#Threading\n",
    "''' \n",
    "Create three threads whereby each thread focuses on one experiment function\n",
    "The Experiments can then be conducted concurrently\n",
    "'''\n",
    "with ThreadPoolExecutor(max_workers=3) as executor:\n",
    "    t1 = executor.submit(run_g_rg_r)\n",
    "    t2 = executor.submit(run_hd)\n",
    "    t3 = executor.submit(run_c)\n",
    "g_active_ss_list, rg_active_ss_list, r_active_ss_list = t1.result()\n",
    "hd_active_ss_list = t2.result()\n",
    "c_active_ss_list = t3.result()"
   ]
  },
  {
   "cell_type": "code",
   "execution_count": null,
   "metadata": {},
   "outputs": [],
   "source": [
    "# No Threading\n",
    "# g_active_ss_list, rg_active_ss_list, r_active_ss_list = run_g_rg_r()\n",
    "# hd_active_ss_list = run_hd()\n",
    "# c_active_ss_list = run_c()"
   ]
  },
  {
   "cell_type": "code",
   "execution_count": null,
   "metadata": {},
   "outputs": [],
   "source": [
    "g_active_ss_list = np.array(g_active_ss_list)\n",
    "hd_active_ss_list = np.array(hd_active_ss_list)\n",
    "r_active_ss_list = np.array(r_active_ss_list)\n",
    "c_active_ss_list = np.array(c_active_ss_list)\n",
    "rg_active_ss_list = np.array(rg_active_ss_list)"
   ]
  },
  {
   "cell_type": "code",
   "execution_count": null,
   "metadata": {},
   "outputs": [],
   "source": [
    "g_active_ss_list"
   ]
  },
  {
   "cell_type": "code",
   "execution_count": null,
   "metadata": {
    "scrolled": true
   },
   "outputs": [],
   "source": [
    "hd_active_ss_list"
   ]
  },
  {
   "cell_type": "code",
   "execution_count": null,
   "metadata": {},
   "outputs": [],
   "source": [
    "r_active_ss_list"
   ]
  },
  {
   "cell_type": "code",
   "execution_count": null,
   "metadata": {},
   "outputs": [],
   "source": [
    "c_active_ss_list"
   ]
  },
  {
   "cell_type": "code",
   "execution_count": null,
   "metadata": {},
   "outputs": [],
   "source": [
    "rg_active_ss_list"
   ]
  },
  {
   "cell_type": "code",
   "execution_count": null,
   "metadata": {},
   "outputs": [],
   "source": [
    "plt.plot(g_active_ss_list, label = \"Greedy\")\n",
    "plt.plot(hd_active_ss_list, label = \"High Degree\")\n",
    "plt.plot(r_active_ss_list, label = \"Random\")\n",
    "plt.plot(c_active_ss_list, label = \"Centrality\")\n",
    "plt.plot(rg_active_ss_list, label = \"Random Greedy\")\n",
    "plt.xlabel('Target Set Size')\n",
    "plt.ylabel('Active Set Size')\n",
    "plt.title('Independent Cascade Model Pr0.10')\n",
    "\n",
    "plt.legend()\n",
    "plt.show()"
   ]
  },
  {
   "cell_type": "code",
   "execution_count": null,
   "metadata": {},
   "outputs": [],
   "source": [
    "finish = time.perf_counter()\n",
    "print(f'Finished in {round(finish - start, 2)} seconds(s)')"
   ]
  }
 ],
 "metadata": {
  "kernelspec": {
   "display_name": "Python 3",
   "language": "python",
   "name": "python3"
  },
  "language_info": {
   "codemirror_mode": {
    "name": "ipython",
    "version": 3
   },
   "file_extension": ".py",
   "mimetype": "text/x-python",
   "name": "python",
   "nbconvert_exporter": "python",
   "pygments_lexer": "ipython3",
   "version": "3.8.3"
  }
 },
 "nbformat": 4,
 "nbformat_minor": 4
}
