{
 "cells": [
  {
   "cell_type": "code",
   "execution_count": 1,
   "metadata": {
    "scrolled": false
   },
   "outputs": [],
   "source": [
    "import networkx as nx\n",
    "import ModelConfig as mc\n",
    "# import IndependentCascadesModelP001 as icm\n",
    "# import IndependentCascadesModelP010 as icm\n",
    "# import WeightedCascadeModel as icm\n",
    "import ThresholdModel as tm\n",
    "import operator\n",
    "import random \n",
    "import matplotlib.pyplot as plt\n",
    "import numpy as np\n",
    "import math\n",
    "from concurrent.futures import ThreadPoolExecutor\n",
    "import time"
   ]
  },
  {
   "cell_type": "code",
   "execution_count": 2,
   "metadata": {},
   "outputs": [],
   "source": [
    "start = time.perf_counter()"
   ]
  },
  {
   "cell_type": "code",
   "execution_count": 3,
   "metadata": {},
   "outputs": [],
   "source": [
    "def InitModel(g):\n",
    "    model = tm.ThresholdModel(g) \n",
    "    config = mc.Configuration()\n",
    "    \n",
    "    edge_dict = {}\n",
    "    for (v, w) in list(g.edges()):\n",
    "        counter = list(g.edges()).count((v, w))\n",
    "        if (w, v) in list(g.edges()): \n",
    "            counter += list(g.edges()).count((w, v))\n",
    "        edge_dict[(v, w)] = counter / len(list(g.neighbors(w)))\n",
    "\n",
    "    threshold_dict = {}\n",
    "    for node in g.nodes():\n",
    "        threshold_dict[node] = np.random.random_sample()\n",
    "    \n",
    "    config.add_node_set_configuration('threshold', threshold_dict)\n",
    "    config.add_edge_set_configuration('weight', edge_dict)\n",
    "    return model, config\n",
    "\n",
    "def InfluenceSpread(model, config, target_set):\n",
    "    config.add_model_initial_configuration(\"Infected\", target_set)\n",
    "    model.set_initial_status(config)\n",
    "    active_set_size, newly_activated_nodes = model.iteration_bunch()\n",
    "    return active_set_size\n",
    "\n",
    "def Get_ActiveSetSize(g, target_set_size, strategy, sorted_graph):   \n",
    "    '''\n",
    "    Assuming continuous process (previously activated nodes cannot reattempt)\n",
    "    As compared to one-time influence spread, all influencer same start point\n",
    "    Default strategy set as greedy \n",
    "    '''\n",
    "    model, config = InitModel(g)\n",
    "    target_set = sorted_graph[0:target_set_size]\n",
    "    active_set_size = InfluenceSpread(model, config, target_set)\n",
    "    return active_set_size"
   ]
  },
  {
   "cell_type": "code",
   "execution_count": 4,
   "metadata": {},
   "outputs": [],
   "source": [
    "def HighDegreeSort(g):\n",
    "    sorted_hd = []\n",
    "    for tup in sorted(g.degree, key=lambda x: x[1], reverse=True):\n",
    "        sorted_hd.append(tup[0])\n",
    "    return sorted_hd"
   ]
  },
  {
   "cell_type": "code",
   "execution_count": 5,
   "metadata": {},
   "outputs": [],
   "source": [
    "def CentralitySort(g):\n",
    "    '''\n",
    "    Returns dictionary storing the average shortest distance of each node \n",
    "    '''\n",
    "    print(\"CentralitySort: Running...\")\n",
    "    asd_dict = {} \n",
    "    for node in g.nodes():\n",
    "        count_dist = 0\n",
    "        node_paths = nx.shortest_path(g)[node]\n",
    "        for value in node_paths.values():\n",
    "            count_dist += len(value) - 1 # excluding start node\n",
    "        asd_dict[node] = count_dist/len(g)\n",
    "        print(f\"{node}/{len(g)-1}\")\n",
    "    \n",
    "    sorted_c = dict(sorted(asd_dict.items(), key=lambda item: item[1]))\n",
    "    print(\"CentralitySort: Completed\")\n",
    "    print(list(sorted_c))\n",
    "    return list(sorted_c)\n",
    "\n",
    "def remove_isolated_nodes(g):\n",
    "    isolated_nodes = []\n",
    "    for pair in g.degree:\n",
    "        node = pair[0]\n",
    "        degree = pair[1]\n",
    "        if degree == 0:\n",
    "            isolated_nodes.append(node)\n",
    "\n",
    "    for node in isolated_nodes:\n",
    "        g.remove_node(node)\n",
    "        \n",
    "    return g"
   ]
  },
  {
   "cell_type": "code",
   "execution_count": 6,
   "metadata": {},
   "outputs": [],
   "source": [
    "def GreedySort(g, tss_range, num_iterations=100):\n",
    "    ''' \n",
    "    Select node with max average marginal gain\n",
    "    Variable 'mg' refers to 'marginal gain'\n",
    "    Number of iterations to find average marginal gain defaulted to 100\n",
    "    '''\n",
    "    model, config = InitModel(g)\n",
    "    print(\"GreedySort: Running...\")\n",
    "    mg_dict = {}\n",
    "    influence_dict = {}\n",
    "    for candidate in g.nodes():\n",
    "        mg = 0\n",
    "        influence_list = []\n",
    "        for i in range(num_iterations):\n",
    "            newly_activated_nodes = GreedySim(model, config, candidate)\n",
    "            mg += len(newly_activated_nodes)\n",
    "            influence_list.append(len(newly_activated_nodes))\n",
    "        avg_mg = mg/num_iterations\n",
    "        mg_dict[candidate] = avg_mg\n",
    "        influence_dict[candidate] = max(influence_list)\n",
    "        print(f\"{candidate}/{len(g)-1}\")\n",
    "        \n",
    "    print(\"GreedySort: Completed\")\n",
    "    mg_list = list(sorted(mg_dict.items(), key=lambda item: item[1], reverse=True))\n",
    "    influence_list = list(sorted(mg_dict.items(), key=lambda item: item[1], reverse=True))\n",
    "    rg_list = sorted(random.choices(mg_list, k=tss_range), key=lambda item: item[1], reverse=True)\n",
    "    r_list = sorted(random.choices(influence_list, k=tss_range), key=lambda item: item[1], reverse=True)\n",
    "\n",
    "    sorted_g = []\n",
    "    sorted_rg = []\n",
    "    sorted_r = []\n",
    "    for tup in mg_list:\n",
    "        sorted_g.append(tup[0])\n",
    "    for tup in rg_list:\n",
    "        sorted_rg.append(tup[0])\n",
    "    for tup in r_list:\n",
    "        sorted_r.append(tup[0])\n",
    "\n",
    "    return sorted_g, sorted_rg, sorted_r\n",
    "\n",
    "def GreedySim(model, config, candidate):\n",
    "    config.add_model_initial_configuration(\"Infected\", [candidate])\n",
    "    model.set_initial_status(config)\n",
    "    active_set_size, newly_activated_nodes = model.iteration_bunch()\n",
    "    newly_activated_nodes.append(candidate)\n",
    "    model.mg_reset(newly_activated_nodes)\n",
    "    return newly_activated_nodes"
   ]
  },
  {
   "cell_type": "code",
   "execution_count": 7,
   "metadata": {},
   "outputs": [],
   "source": [
    "#prepare graph\n",
    "g = nx.erdos_renyi_graph(150, 0.1) #number of nodes, probability to form edges\n",
    "# g = nx.gnm_random_graph(1075, 5300) # number of nodes, number of edges\n",
    "g = remove_isolated_nodes(g)\n",
    "\n",
    "#experiment parameters\n",
    "# target set size range \n",
    "# e.g. get active set size for target set ranging from 0 to 30 influencers\n",
    "tss_range = 30 \n",
    "num_i = 5"
   ]
  },
  {
   "cell_type": "code",
   "execution_count": 8,
   "metadata": {
    "scrolled": true
   },
   "outputs": [],
   "source": [
    "def run_g_rg_r():\n",
    "    #Greedy\n",
    "    greedy_i = 5\n",
    "    sorted_g, sorted_rg, sorted_r = GreedySort(g, tss_range, greedy_i)\n",
    "\n",
    "    g_active_ss_list = []\n",
    "    for i in range(tss_range):\n",
    "        g_active_ss_list.append(0)\n",
    "\n",
    "    for a in range(num_i):\n",
    "        for i in range(tss_range):\n",
    "            target_set_size = i\n",
    "            strategy = 'greedy'\n",
    "            active_set_size = Get_ActiveSetSize(g, target_set_size, strategy, sorted_g)\n",
    "            g_active_ss_list[i] += active_set_size\n",
    "        print(f\"{a}/{num_i-1}\")\n",
    "\n",
    "    for i in range(tss_range):\n",
    "        g_active_ss_list[i] /= num_i\n",
    "        \n",
    "    #Random Greedy\n",
    "    rg_active_ss_list = []\n",
    "    for i in range(tss_range):\n",
    "        rg_active_ss_list.append(0)\n",
    "\n",
    "    for a in range(num_i):\n",
    "        for i in range(tss_range):\n",
    "            target_set_size = i\n",
    "            strategy = 'randomgreedy'\n",
    "            active_set_size = Get_ActiveSetSize(g, target_set_size, strategy, sorted_rg)\n",
    "            rg_active_ss_list[i] += active_set_size\n",
    "        print(f\"{a}/{num_i-1}\")\n",
    "\n",
    "    for i in range(tss_range):\n",
    "        rg_active_ss_list[i] /= num_i\n",
    "        \n",
    "    #Random\n",
    "    r_active_ss_list = []\n",
    "    for i in range(tss_range):\n",
    "        r_active_ss_list.append(0)\n",
    "\n",
    "    for a in range(num_i):\n",
    "        for i in range(tss_range):\n",
    "            target_set_size = i\n",
    "            strategy = 'random'\n",
    "            active_set_size = Get_ActiveSetSize(g, target_set_size, strategy, sorted_r)\n",
    "            r_active_ss_list[i] += active_set_size\n",
    "        print(f\"{a}/{num_i-1}\")\n",
    "\n",
    "    for i in range(tss_range):\n",
    "        r_active_ss_list[i] /= num_i\n",
    "        \n",
    "    return g_active_ss_list, rg_active_ss_list, r_active_ss_list"
   ]
  },
  {
   "cell_type": "code",
   "execution_count": 9,
   "metadata": {
    "scrolled": true
   },
   "outputs": [],
   "source": [
    "def run_hd():\n",
    "    print(\"HD\")\n",
    "    sorted_hd = HighDegreeSort(g)\n",
    "\n",
    "    hd_active_ss_list = []\n",
    "    for i in range(tss_range):\n",
    "        hd_active_ss_list.append(0)\n",
    "\n",
    "    for a in range(num_i):\n",
    "        for i in range(tss_range):\n",
    "            target_set_size = i\n",
    "            strategy = 'highdegree'\n",
    "            active_set_size = Get_ActiveSetSize(g, target_set_size, strategy, sorted_hd)\n",
    "            hd_active_ss_list[i] += active_set_size\n",
    "        print(f\"{a}/{num_i-1}\")\n",
    "\n",
    "    for i in range(tss_range):\n",
    "        hd_active_ss_list[i] /= num_i\n",
    "    \n",
    "    return hd_active_ss_list"
   ]
  },
  {
   "cell_type": "code",
   "execution_count": 10,
   "metadata": {
    "scrolled": true
   },
   "outputs": [],
   "source": [
    "def run_c():\n",
    "    sorted_c = CentralitySort(g)\n",
    "\n",
    "    c_active_ss_list = []\n",
    "    for i in range(tss_range):\n",
    "        c_active_ss_list.append(0)\n",
    "\n",
    "    for a in range(num_i):\n",
    "        for i in range(tss_range):\n",
    "            target_set_size = i\n",
    "            strategy = 'centrality'\n",
    "            active_set_size = Get_ActiveSetSize(g, target_set_size, strategy, sorted_c)\n",
    "            c_active_ss_list[i] += active_set_size\n",
    "        print(f\"{a}/{num_i-1}\")\n",
    "\n",
    "    for i in range(tss_range):\n",
    "        c_active_ss_list[i] /= num_i\n",
    "    \n",
    "    return c_active_ss_list"
   ]
  },
  {
   "cell_type": "code",
   "execution_count": null,
   "metadata": {
    "scrolled": true
   },
   "outputs": [
    {
     "name": "stdout",
     "output_type": "stream",
     "text": [
      "GreedySort: Running...HD\n",
      "\n",
      "CentralitySort: Running...\n",
      "0/1074\n",
      "0/999\n",
      "1/1074\n"
     ]
    }
   ],
   "source": [
    "with ThreadPoolExecutor(max_workers=3) as executor:\n",
    "    t1 = executor.submit(run_g_rg_r)\n",
    "    t2 = executor.submit(run_hd)\n",
    "    t3 = executor.submit(run_c)\n",
    "g_active_ss_list, rg_active_ss_list, r_active_ss_list = t1.result()\n",
    "hd_active_ss_list = t2.result()\n",
    "c_active_ss_list = t3.result()"
   ]
  },
  {
   "cell_type": "code",
   "execution_count": null,
   "metadata": {},
   "outputs": [],
   "source": [
    "# No Threading\n",
    "# g_active_ss_list, rg_active_ss_list, r_active_ss_list = run_g_rg_r()\n",
    "# hd_active_ss_list = run_hd()\n",
    "# c_active_ss_list = run_c()"
   ]
  },
  {
   "cell_type": "code",
   "execution_count": null,
   "metadata": {},
   "outputs": [],
   "source": [
    "g_active_ss_list = np.array(g_active_ss_list)\n",
    "hd_active_ss_list = np.array(hd_active_ss_list)\n",
    "r_active_ss_list = np.array(r_active_ss_list)\n",
    "c_active_ss_list = np.array(c_active_ss_list)\n",
    "rg_active_ss_list = np.array(rg_active_ss_list)"
   ]
  },
  {
   "cell_type": "code",
   "execution_count": null,
   "metadata": {},
   "outputs": [],
   "source": [
    "g_active_ss_list"
   ]
  },
  {
   "cell_type": "code",
   "execution_count": null,
   "metadata": {
    "scrolled": true
   },
   "outputs": [],
   "source": [
    "hd_active_ss_list"
   ]
  },
  {
   "cell_type": "code",
   "execution_count": null,
   "metadata": {},
   "outputs": [],
   "source": [
    "r_active_ss_list"
   ]
  },
  {
   "cell_type": "code",
   "execution_count": null,
   "metadata": {},
   "outputs": [],
   "source": [
    "c_active_ss_list"
   ]
  },
  {
   "cell_type": "code",
   "execution_count": null,
   "metadata": {},
   "outputs": [],
   "source": [
    "rg_active_ss_list"
   ]
  },
  {
   "cell_type": "code",
   "execution_count": null,
   "metadata": {},
   "outputs": [],
   "source": [
    "plt.plot(g_active_ss_list, label = \"Greedy\")\n",
    "plt.plot(hd_active_ss_list, label = \"High Degree\")\n",
    "plt.plot(r_active_ss_list, label = \"Random\")\n",
    "plt.plot(c_active_ss_list, label = \"Centrality\")\n",
    "plt.plot(rg_active_ss_list, label = \"Random Greedy\")\n",
    "plt.xlabel('Target Set Size')\n",
    "plt.ylabel('Active Set Size')\n",
    "plt.title('Independent Cascade Model Pr0.01')\n",
    "\n",
    "plt.legend()\n",
    "plt.show()"
   ]
  },
  {
   "cell_type": "code",
   "execution_count": null,
   "metadata": {},
   "outputs": [],
   "source": [
    "finish = time.perf_counter()\n",
    "print(f'Finished in {round(finish - start, 2)} seconds(s)')"
   ]
  }
 ],
 "metadata": {
  "kernelspec": {
   "display_name": "Python 3",
   "language": "python",
   "name": "python3"
  },
  "language_info": {
   "codemirror_mode": {
    "name": "ipython",
    "version": 3
   },
   "file_extension": ".py",
   "mimetype": "text/x-python",
   "name": "python",
   "nbconvert_exporter": "python",
   "pygments_lexer": "ipython3",
   "version": "3.8.3"
  }
 },
 "nbformat": 4,
 "nbformat_minor": 4
}
